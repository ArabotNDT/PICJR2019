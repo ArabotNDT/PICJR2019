{
 "cells": [
  {
   "cell_type": "code",
   "execution_count": 1,
   "id": "97907594-367a-4cc1-a325-a3849ea47301",
   "metadata": {},
   "outputs": [],
   "source": [
    "import rospy\n",
    "from std_msgs.msg import String"
   ]
  },
  {
   "cell_type": "code",
   "execution_count": 2,
   "id": "43234e7b-4343-4376-a384-0f3c7fd74eb3",
   "metadata": {},
   "outputs": [],
   "source": [
    "def callback(data):\n",
    "     rospy.loginfo(rospy.get_caller_id() + \" Recebido %s\", data.data)"
   ]
  },
  {
   "cell_type": "code",
   "execution_count": 3,
   "id": "cc37f898-f463-4f5f-8b18-ea0f3fe7738b",
   "metadata": {},
   "outputs": [],
   "source": [
    "def receber():\n",
    "     rospy.init_node('destinatario', anonymous=True)\n",
    "     rospy.Subscriber(\"correio\", String, callback)\n",
    "     rospy.spin()"
   ]
  },
  {
   "cell_type": "code",
   "execution_count": null,
   "id": "870e3874-5c61-4024-954f-c595549d9954",
   "metadata": {},
   "outputs": [
    {
     "name": "stdout",
     "output_type": "stream",
     "text": [
      "[INFO] [1638986548.570676]: /destinatario_8104_1638986548365 Recebido Nova mensagem 1638986548.5658424\n",
      "[INFO] [1638986548.682585]: /destinatario_8104_1638986548365 Recebido Nova mensagem 1638986548.6806777\n",
      "[INFO] [1638986548.774403]: /destinatario_8104_1638986548365 Recebido Nova mensagem 1638986548.7695498\n",
      "[INFO] [1638986548.869093]: /destinatario_8104_1638986548365 Recebido Nova mensagem 1638986548.864144\n",
      "[INFO] [1638986548.975828]: /destinatario_8104_1638986548365 Recebido Nova mensagem 1638986548.9718313\n",
      "[INFO] [1638986549.071037]: /destinatario_8104_1638986548365 Recebido Nova mensagem 1638986549.0669923\n",
      "[INFO] [1638986549.166625]: /destinatario_8104_1638986548365 Recebido Nova mensagem 1638986549.1616132\n",
      "[INFO] [1638986549.276379]: /destinatario_8104_1638986548365 Recebido Nova mensagem 1638986549.271579\n",
      "[INFO] [1638986549.369200]: /destinatario_8104_1638986548365 Recebido Nova mensagem 1638986549.366198\n",
      "[INFO] [1638986549.466157]: /destinatario_8104_1638986548365 Recebido Nova mensagem 1638986549.4601126\n",
      "[INFO] [1638986549.575162]: /destinatario_8104_1638986548365 Recebido Nova mensagem 1638986549.570172\n",
      "[INFO] [1638986549.671141]: /destinatario_8104_1638986548365 Recebido Nova mensagem 1638986549.665141\n",
      "[INFO] [1638986549.776688]: /destinatario_8104_1638986548365 Recebido Nova mensagem 1638986549.7746887\n",
      "[INFO] [1638986549.869701]: /destinatario_8104_1638986548365 Recebido Nova mensagem 1638986549.867702\n",
      "[INFO] [1638986549.966549]: /destinatario_8104_1638986548365 Recebido Nova mensagem 1638986549.9615512\n",
      "[INFO] [1638986550.075898]: /destinatario_8104_1638986548365 Recebido Nova mensagem 1638986550.071909\n",
      "[INFO] [1638986550.166993]: /destinatario_8104_1638986548365 Recebido Nova mensagem 1638986550.164995\n",
      "[INFO] [1638986550.266774]: /destinatario_8104_1638986548365 Recebido Nova mensagem 1638986550.2609653\n",
      "[INFO] [1638986550.376455]: /destinatario_8104_1638986548365 Recebido Nova mensagem 1638986550.3706145\n",
      "[INFO] [1638986550.471502]: /destinatario_8104_1638986548365 Recebido Nova mensagem 1638986550.4664204\n",
      "[INFO] [1638986550.563506]: /destinatario_8104_1638986548365 Recebido Nova mensagem 1638986550.561508\n",
      "[INFO] [1638986550.674517]: /destinatario_8104_1638986548365 Recebido Nova mensagem 1638986550.6715205\n",
      "[INFO] [1638986550.772101]: /destinatario_8104_1638986548365 Recebido Nova mensagem 1638986550.7670543\n",
      "[INFO] [1638986550.867045]: /destinatario_8104_1638986548365 Recebido Nova mensagem 1638986550.8612747\n",
      "[INFO] [1638986550.975096]: /destinatario_8104_1638986548365 Recebido Nova mensagem 1638986550.9691575\n",
      "[INFO] [1638986551.064647]: /destinatario_8104_1638986548365 Recebido Nova mensagem 1638986551.0629528\n",
      "[INFO] [1638986551.177155]: /destinatario_8104_1638986548365 Recebido Nova mensagem 1638986551.1711564\n",
      "[INFO] [1638986551.270296]: /destinatario_8104_1638986548365 Recebido Nova mensagem 1638986551.2662992\n",
      "[INFO] [1638986551.366927]: /destinatario_8104_1638986548365 Recebido Nova mensagem 1638986551.3609338\n",
      "[INFO] [1638986551.474645]: /destinatario_8104_1638986548365 Recebido Nova mensagem 1638986551.4688494\n",
      "[INFO] [1638986551.565256]: /destinatario_8104_1638986548365 Recebido Nova mensagem 1638986551.5624883\n",
      "[INFO] [1638986551.677600]: /destinatario_8104_1638986548365 Recebido Nova mensagem 1638986551.6726155\n",
      "[INFO] [1638986551.769877]: /destinatario_8104_1638986548365 Recebido Nova mensagem 1638986551.764882\n",
      "[INFO] [1638986551.866279]: /destinatario_8104_1638986548365 Recebido Nova mensagem 1638986551.860279\n",
      "[INFO] [1638986551.974015]: /destinatario_8104_1638986548365 Recebido Nova mensagem 1638986551.9691632\n",
      "[INFO] [1638986552.064536]: /destinatario_8104_1638986548365 Recebido Nova mensagem 1638986552.0634997\n",
      "[INFO] [1638986552.176484]: /destinatario_8104_1638986548365 Recebido Nova mensagem 1638986552.1724906\n",
      "[INFO] [1638986552.268169]: /destinatario_8104_1638986548365 Recebido Nova mensagem 1638986552.2661693\n",
      "[INFO] [1638986552.381449]: /destinatario_8104_1638986548365 Recebido Nova mensagem 1638986552.3754716\n",
      "[INFO] [1638986552.469644]: /destinatario_8104_1638986548365 Recebido Nova mensagem 1638986552.4679587\n",
      "[INFO] [1638986552.568261]: /destinatario_8104_1638986548365 Recebido Nova mensagem 1638986552.5622673\n",
      "[INFO] [1638986552.676687]: /destinatario_8104_1638986548365 Recebido Nova mensagem 1638986552.6716871\n",
      "[INFO] [1638986552.770229]: /destinatario_8104_1638986548365 Recebido Nova mensagem 1638986552.765231\n",
      "[INFO] [1638986552.875033]: /destinatario_8104_1638986548365 Recebido Nova mensagem 1638986552.873035\n",
      "[INFO] [1638986552.971217]: /destinatario_8104_1638986548365 Recebido Nova mensagem 1638986552.966276\n",
      "[INFO] [1638986553.080641]: /destinatario_8104_1638986548365 Recebido Nova mensagem 1638986553.0756586\n",
      "[INFO] [1638986553.172336]: /destinatario_8104_1638986548365 Recebido Nova mensagem 1638986553.1673512\n",
      "[INFO] [1638986553.266672]: /destinatario_8104_1638986548365 Recebido Nova mensagem 1638986553.260858\n",
      "[INFO] [1638986553.375472]: /destinatario_8104_1638986548365 Recebido Nova mensagem 1638986553.3696718\n",
      "[INFO] [1638986553.468411]: /destinatario_8104_1638986548365 Recebido Nova mensagem 1638986553.4624264\n",
      "[INFO] [1638986553.573676]: /destinatario_8104_1638986548365 Recebido Nova mensagem 1638986553.5709078\n",
      "[INFO] [1638986553.671095]: /destinatario_8104_1638986548365 Recebido Nova mensagem 1638986553.6652696\n",
      "[INFO] [1638986553.779282]: /destinatario_8104_1638986548365 Recebido Nova mensagem 1638986553.7743192\n",
      "[INFO] [1638986553.876366]: /destinatario_8104_1638986548365 Recebido Nova mensagem 1638986553.8693767\n",
      "[INFO] [1638986553.969781]: /destinatario_8104_1638986548365 Recebido Nova mensagem 1638986553.964729\n",
      "[INFO] [1638986554.077455]: /destinatario_8104_1638986548365 Recebido Nova mensagem 1638986554.0714645\n",
      "[INFO] [1638986554.166248]: /destinatario_8104_1638986548365 Recebido Nova mensagem 1638986554.1642857\n",
      "[INFO] [1638986554.275601]: /destinatario_8104_1638986548365 Recebido Nova mensagem 1638986554.2736\n",
      "[INFO] [1638986554.372890]: /destinatario_8104_1638986548365 Recebido Nova mensagem 1638986554.3670835\n",
      "[INFO] [1638986554.461851]: /destinatario_8104_1638986548365 Recebido Nova mensagem 1638986554.4610164\n",
      "[INFO] [1638986554.575157]: /destinatario_8104_1638986548365 Recebido Nova mensagem 1638986554.5701814\n",
      "[INFO] [1638986554.665884]: /destinatario_8104_1638986548365 Recebido Nova mensagem 1638986554.664173\n",
      "[INFO] [1638986554.779313]: /destinatario_8104_1638986548365 Recebido Nova mensagem 1638986554.7723255\n",
      "[INFO] [1638986554.872476]: /destinatario_8104_1638986548365 Recebido Nova mensagem 1638986554.8664756\n",
      "[INFO] [1638986554.965635]: /destinatario_8104_1638986548365 Recebido Nova mensagem 1638986554.960598\n",
      "[INFO] [1638986555.076782]: /destinatario_8104_1638986548365 Recebido Nova mensagem 1638986555.0707924\n",
      "[INFO] [1638986555.165137]: /destinatario_8104_1638986548365 Recebido Nova mensagem 1638986555.1631157\n",
      "[INFO] [1638986555.277932]: /destinatario_8104_1638986548365 Recebido Nova mensagem 1638986555.2719316\n",
      "[INFO] [1638986555.368922]: /destinatario_8104_1638986548365 Recebido Nova mensagem 1638986555.3676825\n",
      "[INFO] [1638986555.467247]: /destinatario_8104_1638986548365 Recebido Nova mensagem 1638986555.4632492\n",
      "[INFO] [1638986555.579028]: /destinatario_8104_1638986548365 Recebido Nova mensagem 1638986555.5740933\n",
      "[INFO] [1638986555.672215]: /destinatario_8104_1638986548365 Recebido Nova mensagem 1638986555.6672843\n",
      "[INFO] [1638986555.763912]: /destinatario_8104_1638986548365 Recebido Nova mensagem 1638986555.761898\n",
      "[INFO] [1638986555.877459]: /destinatario_8104_1638986548365 Recebido Nova mensagem 1638986555.871418\n",
      "[INFO] [1638986555.970811]: /destinatario_8104_1638986548365 Recebido Nova mensagem 1638986555.9659603\n",
      "[INFO] [1638986556.066346]: /destinatario_8104_1638986548365 Recebido Nova mensagem 1638986556.0613518\n",
      "[INFO] [1638986556.176308]: /destinatario_8104_1638986548365 Recebido Nova mensagem 1638986556.1704988\n",
      "[INFO] [1638986556.270451]: /destinatario_8104_1638986548365 Recebido Nova mensagem 1638986556.265432\n",
      "[INFO] [1638986556.366211]: /destinatario_8104_1638986548365 Recebido Nova mensagem 1638986556.3613677\n",
      "[INFO] [1638986556.476389]: /destinatario_8104_1638986548365 Recebido Nova mensagem 1638986556.4713895\n",
      "[INFO] [1638986556.567554]: /destinatario_8104_1638986548365 Recebido Nova mensagem 1638986556.564563\n",
      "[INFO] [1638986556.677272]: /destinatario_8104_1638986548365 Recebido Nova mensagem 1638986556.6734967\n",
      "[INFO] [1638986556.771467]: /destinatario_8104_1638986548365 Recebido Nova mensagem 1638986556.7666554\n",
      "[INFO] [1638986556.865454]: /destinatario_8104_1638986548365 Recebido Nova mensagem 1638986556.860588\n",
      "[INFO] [1638986556.976579]: /destinatario_8104_1638986548365 Recebido Nova mensagem 1638986556.96977\n",
      "[INFO] [1638986557.068841]: /destinatario_8104_1638986548365 Recebido Nova mensagem 1638986557.0630167\n",
      "[INFO] [1638986557.173326]: /destinatario_8104_1638986548365 Recebido Nova mensagem 1638986557.1715846\n",
      "[INFO] [1638986557.270854]: /destinatario_8104_1638986548365 Recebido Nova mensagem 1638986557.2648523\n",
      "[INFO] [1638986557.378356]: /destinatario_8104_1638986548365 Recebido Nova mensagem 1638986557.373571\n",
      "[INFO] [1638986557.472353]: /destinatario_8104_1638986548365 Recebido Nova mensagem 1638986557.4663508\n"
     ]
    }
   ],
   "source": [
    "receber()"
   ]
  },
  {
   "cell_type": "code",
   "execution_count": null,
   "id": "81657695-d89b-4592-90aa-09f4f250bf91",
   "metadata": {},
   "outputs": [],
   "source": []
  }
 ],
 "metadata": {
  "kernelspec": {
   "display_name": "Python 3 (ipykernel)",
   "language": "python",
   "name": "python3"
  },
  "language_info": {
   "codemirror_mode": {
    "name": "ipython",
    "version": 3
   },
   "file_extension": ".py",
   "mimetype": "text/x-python",
   "name": "python",
   "nbconvert_exporter": "python",
   "pygments_lexer": "ipython3",
   "version": "3.8.12"
  }
 },
 "nbformat": 4,
 "nbformat_minor": 5
}
